{
 "cells": [
  {
   "cell_type": "code",
   "execution_count": 2,
   "id": "010519b5-abf8-47b8-8a24-d399ceb92092",
   "metadata": {},
   "outputs": [
    {
     "name": "stdout",
     "output_type": "stream",
     "text": [
      "-----------------\n",
      "Consulta 1. Tabla y gráfica del total de Becas por Área del Conocimiento\n",
      "ÁREA DEL CONOCIMIENTO\n",
      "I. FISICO MATEMATICAS Y CS. DE LA TIERRA    1714\n",
      "II. BIOLOGIA Y QUIMICA                      2603\n",
      "III. MEDICINA Y CS. DE LA SALUD             2570\n",
      "IV. HUMANIDADES Y CS. DE LA CONDUCTA        3685\n",
      "V. CIENCIAS SOCIALES                        5018\n",
      "VI. BIOTECNOLOGIA Y CS. AGROPECUARIAS       2674\n",
      "VII. INGENIERIAS                            5378\n",
      "Name: count, dtype: int64\n"
     ]
    },
    {
     "data": {},
     "metadata": {},
     "output_type": "display_data"
    },
    {
     "data": {},
     "metadata": {},
     "output_type": "display_data"
    },
    {
     "data": {
      "application/vnd.holoviews_exec.v0+json": "",
      "text/html": [
       "<div id='3d31dd82-ec17-4077-8d98-5dca72e73cc5'>\n",
       "  <div id=\"e2fa68e8-8696-41b0-926e-4caaabf53d54\" data-root-id=\"3d31dd82-ec17-4077-8d98-5dca72e73cc5\" style=\"display: contents;\"></div>\n",
       "</div>\n",
       "<script type=\"application/javascript\">(function(root) {\n",
       "  var docs_json = {\"f89cb9f0-1c5e-4356-a3b4-bfee9d104e93\":{\"version\":\"3.4.2\",\"title\":\"Bokeh Application\",\"roots\":[{\"type\":\"object\",\"name\":\"Row\",\"id\":\"3d31dd82-ec17-4077-8d98-5dca72e73cc5\",\"attributes\":{\"name\":\"Row00938\",\"stylesheets\":[\"\\n:host(.pn-loading):before, .pn-loading:before {\\n  background-color: #c3c3c3;\\n  mask-size: auto calc(min(50%, 400px));\\n  -webkit-mask-size: auto calc(min(50%, 400px));\\n}\",{\"type\":\"object\",\"name\":\"ImportedStyleSheet\",\"id\":\"0f612619-f762-4a0c-bc0b-44901b1e83e5\",\"attributes\":{\"url\":\"https://cdn.holoviz.org/panel/1.4.4/dist/css/loading.css\"}},{\"type\":\"object\",\"name\":\"ImportedStyleSheet\",\"id\":\"e36ced5a-2808-4bda-9b21-44abb0bdc842\",\"attributes\":{\"url\":\"https://cdn.holoviz.org/panel/1.4.4/dist/css/listpanel.css\"}},{\"type\":\"object\",\"name\":\"ImportedStyleSheet\",\"id\":\"43af9e86-888b-47ee-b9cf-c4c8ffb08271\",\"attributes\":{\"url\":\"https://cdn.holoviz.org/panel/1.4.4/dist/bundled/theme/default.css\"}},{\"type\":\"object\",\"name\":\"ImportedStyleSheet\",\"id\":\"82750f0c-b60b-40d0-b299-ff126255cd16\",\"attributes\":{\"url\":\"https://cdn.holoviz.org/panel/1.4.4/dist/bundled/theme/native.css\"}}],\"margin\":0,\"align\":\"start\",\"children\":[{\"type\":\"object\",\"name\":\"Figure\",\"id\":\"9675bf51-cb9b-47c3-8282-ca510e6dc1e0\",\"attributes\":{\"width\":700,\"height\":300,\"margin\":[5,10],\"sizing_mode\":\"fixed\",\"align\":\"start\",\"x_range\":{\"type\":\"object\",\"name\":\"FactorRange\",\"id\":\"482381f9-4c55-441b-89b2-6cedec2345a7\",\"attributes\":{\"tags\":[[[\"\\u00c1REA DEL CONOCIMIENTO\",null]],[]],\"factors\":[\"I. FISICO MATEMATICAS Y CS. DE LA TIERRA\",\"II. BIOLOGIA Y QUIMICA\",\"III. MEDICINA Y CS. DE LA SALUD\",\"IV. HUMANIDADES Y CS. DE LA CONDUCTA\",\"V. CIENCIAS SOCIALES\",\"VI. BIOTECNOLOGIA Y CS. AGROPECUARIAS\",\"VII. INGENIERIAS\"]}},\"y_range\":{\"type\":\"object\",\"name\":\"Range1d\",\"id\":\"c0e54699-d25c-4385-93aa-751b908dfcfc\",\"attributes\":{\"tags\":[[[\"count\",null]],{\"type\":\"map\",\"entries\":[[\"invert_yaxis\",false],[\"autorange\",false]]}],\"end\":5744.4,\"reset_start\":0.0,\"reset_end\":5744.4}},\"x_scale\":{\"type\":\"object\",\"name\":\"CategoricalScale\",\"id\":\"56267711-f706-4691-bfab-3eccf4cf4a50\"},\"y_scale\":{\"type\":\"object\",\"name\":\"LinearScale\",\"id\":\"4157937f-ed9d-45fb-bcdf-81d88cdc2a36\"},\"title\":{\"type\":\"object\",\"name\":\"Title\",\"id\":\"2c5ff551-c55e-4344-8684-5e9157ffe2d5\",\"attributes\":{\"text\":\"Total de Becas por \\u00c1rea del Conocimiento\",\"text_color\":\"black\",\"text_font_size\":\"12pt\"}},\"renderers\":[{\"type\":\"object\",\"name\":\"GlyphRenderer\",\"id\":\"6c09084b-1a44-48f2-abd5-293e035bd513\",\"attributes\":{\"data_source\":{\"type\":\"object\",\"name\":\"ColumnDataSource\",\"id\":\"96ecba2b-16b7-4e5c-bfec-ff803c9f9019\",\"attributes\":{\"selected\":{\"type\":\"object\",\"name\":\"Selection\",\"id\":\"f70e6400-c896-41ab-825d-bd94564fbb7a\",\"attributes\":{\"indices\":[],\"line_indices\":[]}},\"selection_policy\":{\"type\":\"object\",\"name\":\"UnionRenderers\",\"id\":\"acbeb43a-ba59-443b-956e-c21d31bfcb30\"},\"data\":{\"type\":\"map\",\"entries\":[[\"\\u00c1REA_DEL_CONOCIMIENTO\",[\"I. FISICO MATEMATICAS Y CS. DE LA TIERRA\",\"II. BIOLOGIA Y QUIMICA\",\"III. MEDICINA Y CS. DE LA SALUD\",\"IV. HUMANIDADES Y CS. DE LA CONDUCTA\",\"V. CIENCIAS SOCIALES\",\"VI. BIOTECNOLOGIA Y CS. AGROPECUARIAS\",\"VII. INGENIERIAS\"]],[\"count\",{\"type\":\"ndarray\",\"array\":{\"type\":\"bytes\",\"data\":\"sgYAACsKAAAKCgAAZQ4AAJoTAAByCgAAAhUAAA==\"},\"shape\":[7],\"dtype\":\"int32\",\"order\":\"little\"}]]}}},\"view\":{\"type\":\"object\",\"name\":\"CDSView\",\"id\":\"336d7e7a-30ed-47e5-95dd-79fb4d0b420a\",\"attributes\":{\"filter\":{\"type\":\"object\",\"name\":\"AllIndices\",\"id\":\"3f1d5db8-07d2-481d-8e72-eef4dcb84397\"}}},\"glyph\":{\"type\":\"object\",\"name\":\"VBar\",\"id\":\"945ef8cf-9366-4d17-aa9d-b60d643922d4\",\"attributes\":{\"tags\":[\"apply_ranges\"],\"x\":{\"type\":\"field\",\"field\":\"\\u00c1REA_DEL_CONOCIMIENTO\"},\"width\":{\"type\":\"value\",\"value\":0.8},\"top\":{\"type\":\"field\",\"field\":\"count\"},\"fill_color\":{\"type\":\"value\",\"value\":\"#30a2da\"},\"hatch_color\":{\"type\":\"value\",\"value\":\"#30a2da\"}}},\"selection_glyph\":{\"type\":\"object\",\"name\":\"VBar\",\"id\":\"db372403-e809-416a-aa5f-a25b67d1d39e\",\"attributes\":{\"tags\":[\"apply_ranges\"],\"x\":{\"type\":\"field\",\"field\":\"\\u00c1REA_DEL_CONOCIMIENTO\"},\"width\":{\"type\":\"value\",\"value\":0.8},\"bottom\":{\"type\":\"value\",\"value\":0},\"top\":{\"type\":\"field\",\"field\":\"count\"},\"line_color\":{\"type\":\"value\",\"value\":\"black\"},\"line_alpha\":{\"type\":\"value\",\"value\":1.0},\"line_width\":{\"type\":\"value\",\"value\":1},\"line_join\":{\"type\":\"value\",\"value\":\"bevel\"},\"line_cap\":{\"type\":\"value\",\"value\":\"butt\"},\"line_dash\":{\"type\":\"value\",\"value\":[]},\"line_dash_offset\":{\"type\":\"value\",\"value\":0},\"fill_color\":{\"type\":\"value\",\"value\":\"#30a2da\"},\"fill_alpha\":{\"type\":\"value\",\"value\":1.0},\"hatch_color\":{\"type\":\"value\",\"value\":\"#30a2da\"},\"hatch_alpha\":{\"type\":\"value\",\"value\":1.0},\"hatch_scale\":{\"type\":\"value\",\"value\":12.0},\"hatch_pattern\":{\"type\":\"value\",\"value\":null},\"hatch_weight\":{\"type\":\"value\",\"value\":1.0}}},\"nonselection_glyph\":{\"type\":\"object\",\"name\":\"VBar\",\"id\":\"e4c3f816-d7aa-46a1-873e-4a1c9aabb021\",\"attributes\":{\"tags\":[\"apply_ranges\"],\"x\":{\"type\":\"field\",\"field\":\"\\u00c1REA_DEL_CONOCIMIENTO\"},\"width\":{\"type\":\"value\",\"value\":0.8},\"top\":{\"type\":\"field\",\"field\":\"count\"},\"line_alpha\":{\"type\":\"value\",\"value\":0.1},\"fill_color\":{\"type\":\"value\",\"value\":\"#30a2da\"},\"fill_alpha\":{\"type\":\"value\",\"value\":0.1},\"hatch_color\":{\"type\":\"value\",\"value\":\"#30a2da\"},\"hatch_alpha\":{\"type\":\"value\",\"value\":0.1}}},\"muted_glyph\":{\"type\":\"object\",\"name\":\"VBar\",\"id\":\"a12cd334-d73c-4472-b556-ae0300a0cae4\",\"attributes\":{\"tags\":[\"apply_ranges\"],\"x\":{\"type\":\"field\",\"field\":\"\\u00c1REA_DEL_CONOCIMIENTO\"},\"width\":{\"type\":\"value\",\"value\":0.8},\"top\":{\"type\":\"field\",\"field\":\"count\"},\"line_alpha\":{\"type\":\"value\",\"value\":0.2},\"fill_color\":{\"type\":\"value\",\"value\":\"#30a2da\"},\"fill_alpha\":{\"type\":\"value\",\"value\":0.2},\"hatch_color\":{\"type\":\"value\",\"value\":\"#30a2da\"},\"hatch_alpha\":{\"type\":\"value\",\"value\":0.2}}}}}],\"toolbar\":{\"type\":\"object\",\"name\":\"Toolbar\",\"id\":\"60cb6ee0-2917-40e9-ab15-9e4c8f4f0a7f\",\"attributes\":{\"tools\":[{\"type\":\"object\",\"name\":\"WheelZoomTool\",\"id\":\"60465706-3c95-42d4-b6b1-b42277256bc2\",\"attributes\":{\"tags\":[\"hv_created\"],\"renderers\":\"auto\",\"zoom_together\":\"none\"}},{\"type\":\"object\",\"name\":\"HoverTool\",\"id\":\"0e192f28-180a-4b20-80ef-49bc8cffc143\",\"attributes\":{\"tags\":[\"hv_created\"],\"renderers\":[{\"id\":\"6c09084b-1a44-48f2-abd5-293e035bd513\"}],\"tooltips\":[[\"\\u00c1REA DEL CONOCIMIENTO\",\"@{\\u00c1REA_DEL_CONOCIMIENTO}\"],[\"count\",\"@{count}\"]]}},{\"type\":\"object\",\"name\":\"SaveTool\",\"id\":\"13ec6838-f1ed-46f9-af0a-f36c4b018238\"},{\"type\":\"object\",\"name\":\"PanTool\",\"id\":\"68f42d7c-2035-4f74-8624-ee83389881da\"},{\"type\":\"object\",\"name\":\"BoxZoomTool\",\"id\":\"fe31aea4-c397-431d-b3ed-988fc6a20885\",\"attributes\":{\"overlay\":{\"type\":\"object\",\"name\":\"BoxAnnotation\",\"id\":\"bf0a1cda-1cc8-488d-86de-ef5bd1be55ca\",\"attributes\":{\"syncable\":false,\"level\":\"overlay\",\"visible\":false,\"left\":{\"type\":\"number\",\"value\":\"nan\"},\"right\":{\"type\":\"number\",\"value\":\"nan\"},\"top\":{\"type\":\"number\",\"value\":\"nan\"},\"bottom\":{\"type\":\"number\",\"value\":\"nan\"},\"left_units\":\"canvas\",\"right_units\":\"canvas\",\"top_units\":\"canvas\",\"bottom_units\":\"canvas\",\"line_color\":\"black\",\"line_alpha\":1.0,\"line_width\":2,\"line_dash\":[4,4],\"fill_color\":\"lightgrey\",\"fill_alpha\":0.5}}}},{\"type\":\"object\",\"name\":\"ResetTool\",\"id\":\"12768e50-77c9-4230-8b09-d491d659d0aa\"}],\"active_drag\":{\"id\":\"68f42d7c-2035-4f74-8624-ee83389881da\"},\"active_scroll\":{\"id\":\"60465706-3c95-42d4-b6b1-b42277256bc2\"}}},\"left\":[{\"type\":\"object\",\"name\":\"LinearAxis\",\"id\":\"6c5072d5-f0d1-40d2-8f41-7d4e396b3dc5\",\"attributes\":{\"ticker\":{\"type\":\"object\",\"name\":\"BasicTicker\",\"id\":\"72203fd8-c1f8-43ce-89bd-3079d5eb6043\",\"attributes\":{\"mantissas\":[1,2,5]}},\"formatter\":{\"type\":\"object\",\"name\":\"BasicTickFormatter\",\"id\":\"82d29e1c-1d71-40b8-b312-819fe4711524\"},\"axis_label\":\"Total de Becas\",\"major_label_policy\":{\"type\":\"object\",\"name\":\"AllLabels\",\"id\":\"88157a48-6133-4a84-8020-bdd2bb1dacce\"}}}],\"below\":[{\"type\":\"object\",\"name\":\"CategoricalAxis\",\"id\":\"c1530d29-df70-471d-b576-3be003a456f8\",\"attributes\":{\"ticker\":{\"type\":\"object\",\"name\":\"CategoricalTicker\",\"id\":\"666478f4-7e38-4b26-a3ca-175c537a9e82\"},\"formatter\":{\"type\":\"object\",\"name\":\"CategoricalTickFormatter\",\"id\":\"cd9d8b72-d58f-4352-8817-8ce91f6a2dd5\"},\"axis_label\":\"\\u00c1REA DEL CONOCIMIENTO\",\"major_label_policy\":{\"type\":\"object\",\"name\":\"AllLabels\",\"id\":\"eba1013a-81c0-4015-bdbd-625ccfd55471\"}}}],\"center\":[{\"type\":\"object\",\"name\":\"Grid\",\"id\":\"1367630d-9ca7-40d8-952e-457f49f801b1\",\"attributes\":{\"axis\":{\"id\":\"c1530d29-df70-471d-b576-3be003a456f8\"},\"grid_line_color\":null}},{\"type\":\"object\",\"name\":\"Grid\",\"id\":\"38ccb60f-6526-4516-9f8f-634ef1e13fd6\",\"attributes\":{\"dimension\":1,\"axis\":{\"id\":\"6c5072d5-f0d1-40d2-8f41-7d4e396b3dc5\"},\"grid_line_color\":null}}],\"min_border_top\":10,\"min_border_bottom\":10,\"min_border_left\":10,\"min_border_right\":10,\"output_backend\":\"webgl\"}}]}},{\"type\":\"object\",\"name\":\"panel.models.comm_manager.CommManager\",\"id\":\"2fa4a2a0-6d42-46f1-a48f-6f135a471aa2\",\"attributes\":{\"plot_id\":\"3d31dd82-ec17-4077-8d98-5dca72e73cc5\",\"comm_id\":\"bf94c9532a6046abb8dcaec9e47a06d9\",\"client_comm_id\":\"b34a49f5385a47fca093372ce7251d17\"}}],\"defs\":[{\"type\":\"model\",\"name\":\"ReactiveHTML1\"},{\"type\":\"model\",\"name\":\"FlexBox1\",\"properties\":[{\"name\":\"align_content\",\"kind\":\"Any\",\"default\":\"flex-start\"},{\"name\":\"align_items\",\"kind\":\"Any\",\"default\":\"flex-start\"},{\"name\":\"flex_direction\",\"kind\":\"Any\",\"default\":\"row\"},{\"name\":\"flex_wrap\",\"kind\":\"Any\",\"default\":\"wrap\"},{\"name\":\"gap\",\"kind\":\"Any\",\"default\":\"\"},{\"name\":\"justify_content\",\"kind\":\"Any\",\"default\":\"flex-start\"}]},{\"type\":\"model\",\"name\":\"FloatPanel1\",\"properties\":[{\"name\":\"config\",\"kind\":\"Any\",\"default\":{\"type\":\"map\"}},{\"name\":\"contained\",\"kind\":\"Any\",\"default\":true},{\"name\":\"position\",\"kind\":\"Any\",\"default\":\"right-top\"},{\"name\":\"offsetx\",\"kind\":\"Any\",\"default\":null},{\"name\":\"offsety\",\"kind\":\"Any\",\"default\":null},{\"name\":\"theme\",\"kind\":\"Any\",\"default\":\"primary\"},{\"name\":\"status\",\"kind\":\"Any\",\"default\":\"normalized\"}]},{\"type\":\"model\",\"name\":\"GridStack1\",\"properties\":[{\"name\":\"mode\",\"kind\":\"Any\",\"default\":\"warn\"},{\"name\":\"ncols\",\"kind\":\"Any\",\"default\":null},{\"name\":\"nrows\",\"kind\":\"Any\",\"default\":null},{\"name\":\"allow_resize\",\"kind\":\"Any\",\"default\":true},{\"name\":\"allow_drag\",\"kind\":\"Any\",\"default\":true},{\"name\":\"state\",\"kind\":\"Any\",\"default\":[]}]},{\"type\":\"model\",\"name\":\"drag1\",\"properties\":[{\"name\":\"slider_width\",\"kind\":\"Any\",\"default\":5},{\"name\":\"slider_color\",\"kind\":\"Any\",\"default\":\"black\"},{\"name\":\"value\",\"kind\":\"Any\",\"default\":50}]},{\"type\":\"model\",\"name\":\"click1\",\"properties\":[{\"name\":\"terminal_output\",\"kind\":\"Any\",\"default\":\"\"},{\"name\":\"debug_name\",\"kind\":\"Any\",\"default\":\"\"},{\"name\":\"clears\",\"kind\":\"Any\",\"default\":0}]},{\"type\":\"model\",\"name\":\"FastWrapper1\",\"properties\":[{\"name\":\"object\",\"kind\":\"Any\",\"default\":null},{\"name\":\"style\",\"kind\":\"Any\",\"default\":null}]},{\"type\":\"model\",\"name\":\"NotificationAreaBase1\",\"properties\":[{\"name\":\"js_events\",\"kind\":\"Any\",\"default\":{\"type\":\"map\"}},{\"name\":\"position\",\"kind\":\"Any\",\"default\":\"bottom-right\"},{\"name\":\"_clear\",\"kind\":\"Any\",\"default\":0}]},{\"type\":\"model\",\"name\":\"NotificationArea1\",\"properties\":[{\"name\":\"js_events\",\"kind\":\"Any\",\"default\":{\"type\":\"map\"}},{\"name\":\"notifications\",\"kind\":\"Any\",\"default\":[]},{\"name\":\"position\",\"kind\":\"Any\",\"default\":\"bottom-right\"},{\"name\":\"_clear\",\"kind\":\"Any\",\"default\":0},{\"name\":\"types\",\"kind\":\"Any\",\"default\":[{\"type\":\"map\",\"entries\":[[\"type\",\"warning\"],[\"background\",\"#ffc107\"],[\"icon\",{\"type\":\"map\",\"entries\":[[\"className\",\"fas fa-exclamation-triangle\"],[\"tagName\",\"i\"],[\"color\",\"white\"]]}]]},{\"type\":\"map\",\"entries\":[[\"type\",\"info\"],[\"background\",\"#007bff\"],[\"icon\",{\"type\":\"map\",\"entries\":[[\"className\",\"fas fa-info-circle\"],[\"tagName\",\"i\"],[\"color\",\"white\"]]}]]}]}]},{\"type\":\"model\",\"name\":\"Notification\",\"properties\":[{\"name\":\"background\",\"kind\":\"Any\",\"default\":null},{\"name\":\"duration\",\"kind\":\"Any\",\"default\":3000},{\"name\":\"icon\",\"kind\":\"Any\",\"default\":null},{\"name\":\"message\",\"kind\":\"Any\",\"default\":\"\"},{\"name\":\"notification_type\",\"kind\":\"Any\",\"default\":null},{\"name\":\"_destroyed\",\"kind\":\"Any\",\"default\":false}]},{\"type\":\"model\",\"name\":\"TemplateActions1\",\"properties\":[{\"name\":\"open_modal\",\"kind\":\"Any\",\"default\":0},{\"name\":\"close_modal\",\"kind\":\"Any\",\"default\":0}]},{\"type\":\"model\",\"name\":\"BootstrapTemplateActions1\",\"properties\":[{\"name\":\"open_modal\",\"kind\":\"Any\",\"default\":0},{\"name\":\"close_modal\",\"kind\":\"Any\",\"default\":0}]},{\"type\":\"model\",\"name\":\"TemplateEditor1\",\"properties\":[{\"name\":\"layout\",\"kind\":\"Any\",\"default\":[]}]},{\"type\":\"model\",\"name\":\"MaterialTemplateActions1\",\"properties\":[{\"name\":\"open_modal\",\"kind\":\"Any\",\"default\":0},{\"name\":\"close_modal\",\"kind\":\"Any\",\"default\":0}]},{\"type\":\"model\",\"name\":\"copy_to_clipboard1\",\"properties\":[{\"name\":\"fill\",\"kind\":\"Any\",\"default\":\"none\"},{\"name\":\"value\",\"kind\":\"Any\",\"default\":null}]}]}};\n",
       "  var render_items = [{\"docid\":\"f89cb9f0-1c5e-4356-a3b4-bfee9d104e93\",\"roots\":{\"3d31dd82-ec17-4077-8d98-5dca72e73cc5\":\"e2fa68e8-8696-41b0-926e-4caaabf53d54\"},\"root_ids\":[\"3d31dd82-ec17-4077-8d98-5dca72e73cc5\"]}];\n",
       "  var docs = Object.values(docs_json)\n",
       "  if (!docs) {\n",
       "    return\n",
       "  }\n",
       "  const py_version = docs[0].version.replace('rc', '-rc.').replace('.dev', '-dev.')\n",
       "  async function embed_document(root) {\n",
       "    var Bokeh = get_bokeh(root)\n",
       "    await Bokeh.embed.embed_items_notebook(docs_json, render_items);\n",
       "    for (const render_item of render_items) {\n",
       "      for (const root_id of render_item.root_ids) {\n",
       "\tconst id_el = document.getElementById(root_id)\n",
       "\tif (id_el.children.length && id_el.children[0].hasAttribute('data-root-id')) {\n",
       "\t  const root_el = id_el.children[0]\n",
       "\t  root_el.id = root_el.id + '-rendered'\n",
       "\t  for (const child of root_el.children) {\n",
       "            // Ensure JupyterLab does not capture keyboard shortcuts\n",
       "            // see: https://jupyterlab.readthedocs.io/en/4.1.x/extension/notebook.html#keyboard-interaction-model\n",
       "\t    child.setAttribute('data-lm-suppress-shortcuts', 'true')\n",
       "\t  }\n",
       "\t}\n",
       "      }\n",
       "    }\n",
       "  }\n",
       "  function get_bokeh(root) {\n",
       "    if (root.Bokeh === undefined) {\n",
       "      return null\n",
       "    } else if (root.Bokeh.version !== py_version) {\n",
       "      if (root.Bokeh.versions === undefined || !root.Bokeh.versions.has(py_version)) {\n",
       "\treturn null\n",
       "      }\n",
       "      return root.Bokeh.versions.get(py_version);\n",
       "    } else if (root.Bokeh.version === py_version) {\n",
       "      return root.Bokeh\n",
       "    }\n",
       "    return null\n",
       "  }\n",
       "  function is_loaded(root) {\n",
       "    var Bokeh = get_bokeh(root)\n",
       "    return (Bokeh != null && Bokeh.Panel !== undefined)\n",
       "  }\n",
       "  if (is_loaded(root)) {\n",
       "    embed_document(root);\n",
       "  } else {\n",
       "    var attempts = 0;\n",
       "    var timer = setInterval(function(root) {\n",
       "      if (is_loaded(root)) {\n",
       "        clearInterval(timer);\n",
       "        embed_document(root);\n",
       "      } else if (document.readyState == \"complete\") {\n",
       "        attempts++;\n",
       "        if (attempts > 200) {\n",
       "          clearInterval(timer);\n",
       "\t  var Bokeh = get_bokeh(root)\n",
       "\t  if (Bokeh == null || Bokeh.Panel == null) {\n",
       "            console.warn(\"Panel: ERROR: Unable to run Panel code because Bokeh or Panel library is missing\");\n",
       "\t  } else {\n",
       "\t    console.warn(\"Panel: WARNING: Attempting to render but not all required libraries could be resolved.\")\n",
       "\t    embed_document(root)\n",
       "\t  }\n",
       "        }\n",
       "      }\n",
       "    }, 25, root)\n",
       "  }\n",
       "})(window);</script>"
      ],
      "text/plain": [
       "HoloViews(Bars, height=300, sizing_mode='fixed', width=700)"
      ]
     },
     "execution_count": 2,
     "metadata": {
      "application/vnd.holoviews_exec.v0+json": {
       "id": "3d31dd82-ec17-4077-8d98-5dca72e73cc5"
      }
     },
     "output_type": "execute_result"
    }
   ],
   "source": [
    "import pandas as pd\n",
    "import hvplot.pandas\n",
    "import panel as pn\n",
    "\n",
    "df = pd.read_csv('C:\\\\Becas-Nuevas-Nacionales.csv', encoding='latin1')\n",
    "print(\"-----------------\")\n",
    "print(\"Consulta 1. Tabla y gráfica del total de Becas por Área del Conocimiento\")\n",
    "conteo_total = df['ÁREA DEL CONOCIMIENTO'].value_counts().sort_index()\n",
    "print(conteo_total)\n",
    "grafica = conteo_total.hvplot(kind='bar', xlabel='ÁREA DEL CONOCIMIENTO', ylabel='Total de Becas', title='Total de Becas por Área del Conocimiento')\n",
    "grafica_panel = pn.pane.HoloViews(grafica)\n",
    "grafica_panel.servable()"
   ]
  },
  {
   "cell_type": "code",
   "execution_count": 3,
   "id": "bae9348c-9bc1-44af-820f-a1aeae551b95",
   "metadata": {},
   "outputs": [
    {
     "name": "stdout",
     "output_type": "stream",
     "text": [
      "-----------------\n",
      "Consulta 2. Tabla y gráfica de la distribución de Becas por Nivel\n",
      "              NIVEL  Cantidad\n",
      "0          MAESTRIA     16313\n",
      "1         DOCTORADO      5730\n",
      "2      ESPECIALIDAD      1565\n",
      "3  ESTANCIA TÉCNICA        34\n"
     ]
    },
    {
     "data": {},
     "metadata": {},
     "output_type": "display_data"
    },
    {
     "data": {
      "application/vnd.holoviews_exec.v0+json": "",
      "text/html": [
       "<div id='1ec601ef-12ff-46de-83b4-5dd0b4140c35'>\n",
       "  <div id=\"f1322354-cec0-48c4-9bc9-01f9e343eb5f\" data-root-id=\"1ec601ef-12ff-46de-83b4-5dd0b4140c35\" style=\"display: contents;\"></div>\n",
       "</div>\n",
       "<script type=\"application/javascript\">(function(root) {\n",
       "  var docs_json = {\"723e0993-54a5-432f-9ea7-a059517d347a\":{\"version\":\"3.4.2\",\"title\":\"Bokeh Application\",\"roots\":[{\"type\":\"object\",\"name\":\"Row\",\"id\":\"1ec601ef-12ff-46de-83b4-5dd0b4140c35\",\"attributes\":{\"name\":\"Row01045\",\"tags\":[\"embedded\"],\"stylesheets\":[\"\\n:host(.pn-loading):before, .pn-loading:before {\\n  background-color: #c3c3c3;\\n  mask-size: auto calc(min(50%, 400px));\\n  -webkit-mask-size: auto calc(min(50%, 400px));\\n}\",{\"type\":\"object\",\"name\":\"ImportedStyleSheet\",\"id\":\"786a1dc8-2042-4d8e-a78d-0b9a03e912bd\",\"attributes\":{\"url\":\"https://cdn.holoviz.org/panel/1.4.4/dist/css/loading.css\"}},{\"type\":\"object\",\"name\":\"ImportedStyleSheet\",\"id\":\"8e31953c-eeb5-4f5a-bdba-693ea79e83ac\",\"attributes\":{\"url\":\"https://cdn.holoviz.org/panel/1.4.4/dist/css/listpanel.css\"}},{\"type\":\"object\",\"name\":\"ImportedStyleSheet\",\"id\":\"f2f6c7d7-44aa-437b-97c0-3874f4025cd2\",\"attributes\":{\"url\":\"https://cdn.holoviz.org/panel/1.4.4/dist/bundled/theme/default.css\"}},{\"type\":\"object\",\"name\":\"ImportedStyleSheet\",\"id\":\"cd8ba44a-1102-46b0-bd6b-890a628569ff\",\"attributes\":{\"url\":\"https://cdn.holoviz.org/panel/1.4.4/dist/bundled/theme/native.css\"}}],\"min_width\":700,\"margin\":0,\"sizing_mode\":\"stretch_width\",\"align\":\"start\",\"children\":[{\"type\":\"object\",\"name\":\"Spacer\",\"id\":\"7f110c6c-fadf-4712-b345-e052c72dabde\",\"attributes\":{\"name\":\"HSpacer01052\",\"stylesheets\":[\"\\n:host(.pn-loading):before, .pn-loading:before {\\n  background-color: #c3c3c3;\\n  mask-size: auto calc(min(50%, 400px));\\n  -webkit-mask-size: auto calc(min(50%, 400px));\\n}\",{\"id\":\"786a1dc8-2042-4d8e-a78d-0b9a03e912bd\"},{\"id\":\"f2f6c7d7-44aa-437b-97c0-3874f4025cd2\"},{\"id\":\"cd8ba44a-1102-46b0-bd6b-890a628569ff\"}],\"margin\":0,\"sizing_mode\":\"stretch_width\",\"align\":\"start\"}},{\"type\":\"object\",\"name\":\"Figure\",\"id\":\"22e5dde9-0a9b-4efc-ad63-c896b03fa9f8\",\"attributes\":{\"width\":700,\"height\":300,\"margin\":[5,10],\"sizing_mode\":\"fixed\",\"align\":\"start\",\"x_range\":{\"type\":\"object\",\"name\":\"FactorRange\",\"id\":\"5e390e98-ed21-4124-a7e7-4a56fee1d80f\",\"attributes\":{\"tags\":[[[\"NIVEL\",null]],[]],\"factors\":[\"MAESTRIA\",\"DOCTORADO\",\"ESPECIALIDAD\",\"ESTANCIA T\\u00c9CNICA\"]}},\"y_range\":{\"type\":\"object\",\"name\":\"Range1d\",\"id\":\"2281ef17-d98d-4087-8a15-54a8de383169\",\"attributes\":{\"tags\":[[[\"Cantidad\",null]],{\"type\":\"map\",\"entries\":[[\"invert_yaxis\",false],[\"autorange\",false]]}],\"end\":17940.9,\"reset_start\":0.0,\"reset_end\":17940.9}},\"x_scale\":{\"type\":\"object\",\"name\":\"CategoricalScale\",\"id\":\"bd81aebd-b91d-4d42-b9b7-a208500a7d60\"},\"y_scale\":{\"type\":\"object\",\"name\":\"LinearScale\",\"id\":\"27e2ad86-9f66-4df8-bf25-905ea9b2ed80\"},\"title\":{\"type\":\"object\",\"name\":\"Title\",\"id\":\"071e8311-4131-4008-8f16-d29615f495b5\",\"attributes\":{\"text\":\"Distribuci\\u00f3n de Becas por Nivel\",\"text_color\":\"black\",\"text_font_size\":\"12pt\"}},\"renderers\":[{\"type\":\"object\",\"name\":\"GlyphRenderer\",\"id\":\"2e77abd1-a977-45b5-9dd1-eb1b6067b106\",\"attributes\":{\"data_source\":{\"type\":\"object\",\"name\":\"ColumnDataSource\",\"id\":\"7126c5e1-bd5e-461b-9025-e6551f482d32\",\"attributes\":{\"selected\":{\"type\":\"object\",\"name\":\"Selection\",\"id\":\"17611935-77ef-4c38-815e-4a00d8c8f9ac\",\"attributes\":{\"indices\":[],\"line_indices\":[]}},\"selection_policy\":{\"type\":\"object\",\"name\":\"UnionRenderers\",\"id\":\"7d6efdf8-547c-4c1c-991b-771177533d31\"},\"data\":{\"type\":\"map\",\"entries\":[[\"NIVEL\",[\"MAESTRIA\",\"DOCTORADO\",\"ESPECIALIDAD\",\"ESTANCIA T\\u00c9CNICA\"]],[\"Cantidad\",{\"type\":\"ndarray\",\"array\":{\"type\":\"bytes\",\"data\":\"uT8AAGIWAAAdBgAAIgAAAA==\"},\"shape\":[4],\"dtype\":\"int32\",\"order\":\"little\"}]]}}},\"view\":{\"type\":\"object\",\"name\":\"CDSView\",\"id\":\"9b4a6f59-46dc-4785-adaf-32ead752ccc4\",\"attributes\":{\"filter\":{\"type\":\"object\",\"name\":\"AllIndices\",\"id\":\"dfab9216-2651-46ef-9e66-077990aea961\"}}},\"glyph\":{\"type\":\"object\",\"name\":\"VBar\",\"id\":\"ecad830d-ad14-4e8c-b843-9c9df58cbe92\",\"attributes\":{\"tags\":[\"apply_ranges\"],\"x\":{\"type\":\"field\",\"field\":\"NIVEL\"},\"width\":{\"type\":\"value\",\"value\":0.8},\"top\":{\"type\":\"field\",\"field\":\"Cantidad\"},\"fill_color\":{\"type\":\"value\",\"value\":\"#30a2da\"},\"hatch_color\":{\"type\":\"value\",\"value\":\"#30a2da\"}}},\"selection_glyph\":{\"type\":\"object\",\"name\":\"VBar\",\"id\":\"496c4bd4-caee-41cb-bc6d-964f0e34ad53\",\"attributes\":{\"tags\":[\"apply_ranges\"],\"x\":{\"type\":\"field\",\"field\":\"NIVEL\"},\"width\":{\"type\":\"value\",\"value\":0.8},\"bottom\":{\"type\":\"value\",\"value\":0},\"top\":{\"type\":\"field\",\"field\":\"Cantidad\"},\"line_color\":{\"type\":\"value\",\"value\":\"black\"},\"line_alpha\":{\"type\":\"value\",\"value\":1.0},\"line_width\":{\"type\":\"value\",\"value\":1},\"line_join\":{\"type\":\"value\",\"value\":\"bevel\"},\"line_cap\":{\"type\":\"value\",\"value\":\"butt\"},\"line_dash\":{\"type\":\"value\",\"value\":[]},\"line_dash_offset\":{\"type\":\"value\",\"value\":0},\"fill_color\":{\"type\":\"value\",\"value\":\"#30a2da\"},\"fill_alpha\":{\"type\":\"value\",\"value\":1.0},\"hatch_color\":{\"type\":\"value\",\"value\":\"#30a2da\"},\"hatch_alpha\":{\"type\":\"value\",\"value\":1.0},\"hatch_scale\":{\"type\":\"value\",\"value\":12.0},\"hatch_pattern\":{\"type\":\"value\",\"value\":null},\"hatch_weight\":{\"type\":\"value\",\"value\":1.0}}},\"nonselection_glyph\":{\"type\":\"object\",\"name\":\"VBar\",\"id\":\"53a3bfd4-6958-4ad7-8078-7b816411ff0a\",\"attributes\":{\"tags\":[\"apply_ranges\"],\"x\":{\"type\":\"field\",\"field\":\"NIVEL\"},\"width\":{\"type\":\"value\",\"value\":0.8},\"top\":{\"type\":\"field\",\"field\":\"Cantidad\"},\"line_alpha\":{\"type\":\"value\",\"value\":0.1},\"fill_color\":{\"type\":\"value\",\"value\":\"#30a2da\"},\"fill_alpha\":{\"type\":\"value\",\"value\":0.1},\"hatch_color\":{\"type\":\"value\",\"value\":\"#30a2da\"},\"hatch_alpha\":{\"type\":\"value\",\"value\":0.1}}},\"muted_glyph\":{\"type\":\"object\",\"name\":\"VBar\",\"id\":\"5b6de798-25b2-49ba-a106-dd9cbdf8f41b\",\"attributes\":{\"tags\":[\"apply_ranges\"],\"x\":{\"type\":\"field\",\"field\":\"NIVEL\"},\"width\":{\"type\":\"value\",\"value\":0.8},\"top\":{\"type\":\"field\",\"field\":\"Cantidad\"},\"line_alpha\":{\"type\":\"value\",\"value\":0.2},\"fill_color\":{\"type\":\"value\",\"value\":\"#30a2da\"},\"fill_alpha\":{\"type\":\"value\",\"value\":0.2},\"hatch_color\":{\"type\":\"value\",\"value\":\"#30a2da\"},\"hatch_alpha\":{\"type\":\"value\",\"value\":0.2}}}}}],\"toolbar\":{\"type\":\"object\",\"name\":\"Toolbar\",\"id\":\"f0184ab5-f078-4eea-b82f-a28ac3a7bb84\",\"attributes\":{\"tools\":[{\"type\":\"object\",\"name\":\"WheelZoomTool\",\"id\":\"6af35033-a969-475c-b667-6ed4a3cfa67b\",\"attributes\":{\"tags\":[\"hv_created\"],\"renderers\":\"auto\",\"zoom_together\":\"none\"}},{\"type\":\"object\",\"name\":\"HoverTool\",\"id\":\"79fb9bb6-ccce-4ee4-8eb1-48e3fcd5155e\",\"attributes\":{\"tags\":[\"hv_created\"],\"renderers\":[{\"id\":\"2e77abd1-a977-45b5-9dd1-eb1b6067b106\"}],\"tooltips\":[[\"NIVEL\",\"@{NIVEL}\"],[\"Cantidad\",\"@{Cantidad}\"]]}},{\"type\":\"object\",\"name\":\"SaveTool\",\"id\":\"39f62984-4126-4232-9f13-32f4629c147d\"},{\"type\":\"object\",\"name\":\"PanTool\",\"id\":\"6fd35165-a5e3-4d8e-b1c2-36dfe960dd3f\"},{\"type\":\"object\",\"name\":\"BoxZoomTool\",\"id\":\"b61fab4d-b735-487a-bf00-a83ec8bb895d\",\"attributes\":{\"overlay\":{\"type\":\"object\",\"name\":\"BoxAnnotation\",\"id\":\"4fa102b6-69e2-4b61-bb2c-7abcc8733e1c\",\"attributes\":{\"syncable\":false,\"level\":\"overlay\",\"visible\":false,\"left\":{\"type\":\"number\",\"value\":\"nan\"},\"right\":{\"type\":\"number\",\"value\":\"nan\"},\"top\":{\"type\":\"number\",\"value\":\"nan\"},\"bottom\":{\"type\":\"number\",\"value\":\"nan\"},\"left_units\":\"canvas\",\"right_units\":\"canvas\",\"top_units\":\"canvas\",\"bottom_units\":\"canvas\",\"line_color\":\"black\",\"line_alpha\":1.0,\"line_width\":2,\"line_dash\":[4,4],\"fill_color\":\"lightgrey\",\"fill_alpha\":0.5}}}},{\"type\":\"object\",\"name\":\"ResetTool\",\"id\":\"ac4506d1-8887-401a-a2c1-afa6183ac93e\"}],\"active_drag\":{\"id\":\"6fd35165-a5e3-4d8e-b1c2-36dfe960dd3f\"},\"active_scroll\":{\"id\":\"6af35033-a969-475c-b667-6ed4a3cfa67b\"}}},\"left\":[{\"type\":\"object\",\"name\":\"LinearAxis\",\"id\":\"8ee1a257-0068-4613-bca1-1a864e26b612\",\"attributes\":{\"ticker\":{\"type\":\"object\",\"name\":\"BasicTicker\",\"id\":\"5e8dbd7c-09ee-49ff-a1f9-30c24599ee4a\",\"attributes\":{\"mantissas\":[1,2,5]}},\"formatter\":{\"type\":\"object\",\"name\":\"BasicTickFormatter\",\"id\":\"3bbca1f8-22bf-493c-8c4b-68103a0f045c\"},\"axis_label\":\"N\\u00famero de Becas\",\"major_label_policy\":{\"type\":\"object\",\"name\":\"AllLabels\",\"id\":\"b6bb4941-0f2d-4225-8d1f-e7ecb26ce782\"}}}],\"below\":[{\"type\":\"object\",\"name\":\"CategoricalAxis\",\"id\":\"75bc8986-46ba-49ed-ad4c-e8b153e2b7c4\",\"attributes\":{\"ticker\":{\"type\":\"object\",\"name\":\"CategoricalTicker\",\"id\":\"85ca0a9e-4c8e-4e51-b6c5-689e4953ac63\"},\"formatter\":{\"type\":\"object\",\"name\":\"CategoricalTickFormatter\",\"id\":\"520f0e34-15c3-4226-b1b5-d10c19e45091\"},\"axis_label\":\"Nivel de Beca\",\"major_label_policy\":{\"type\":\"object\",\"name\":\"AllLabels\",\"id\":\"2741764b-0e7f-467e-88e0-63540bf15360\"}}}],\"center\":[{\"type\":\"object\",\"name\":\"Grid\",\"id\":\"3435ba37-6e7a-4d5c-a3d8-b0e616725b09\",\"attributes\":{\"axis\":{\"id\":\"75bc8986-46ba-49ed-ad4c-e8b153e2b7c4\"},\"grid_line_color\":null}},{\"type\":\"object\",\"name\":\"Grid\",\"id\":\"9d25265a-9699-449d-aa34-f0d4ae7fc17e\",\"attributes\":{\"dimension\":1,\"axis\":{\"id\":\"8ee1a257-0068-4613-bca1-1a864e26b612\"},\"grid_line_color\":null}}],\"min_border_top\":10,\"min_border_bottom\":10,\"min_border_left\":10,\"min_border_right\":10,\"output_backend\":\"webgl\"}},{\"type\":\"object\",\"name\":\"Spacer\",\"id\":\"c3b6795b-fb25-441f-bdcd-da0034ca2929\",\"attributes\":{\"name\":\"HSpacer01053\",\"stylesheets\":[\"\\n:host(.pn-loading):before, .pn-loading:before {\\n  background-color: #c3c3c3;\\n  mask-size: auto calc(min(50%, 400px));\\n  -webkit-mask-size: auto calc(min(50%, 400px));\\n}\",{\"id\":\"786a1dc8-2042-4d8e-a78d-0b9a03e912bd\"},{\"id\":\"f2f6c7d7-44aa-437b-97c0-3874f4025cd2\"},{\"id\":\"cd8ba44a-1102-46b0-bd6b-890a628569ff\"}],\"margin\":0,\"sizing_mode\":\"stretch_width\",\"align\":\"start\"}}]}}],\"defs\":[{\"type\":\"model\",\"name\":\"ReactiveHTML1\"},{\"type\":\"model\",\"name\":\"FlexBox1\",\"properties\":[{\"name\":\"align_content\",\"kind\":\"Any\",\"default\":\"flex-start\"},{\"name\":\"align_items\",\"kind\":\"Any\",\"default\":\"flex-start\"},{\"name\":\"flex_direction\",\"kind\":\"Any\",\"default\":\"row\"},{\"name\":\"flex_wrap\",\"kind\":\"Any\",\"default\":\"wrap\"},{\"name\":\"gap\",\"kind\":\"Any\",\"default\":\"\"},{\"name\":\"justify_content\",\"kind\":\"Any\",\"default\":\"flex-start\"}]},{\"type\":\"model\",\"name\":\"FloatPanel1\",\"properties\":[{\"name\":\"config\",\"kind\":\"Any\",\"default\":{\"type\":\"map\"}},{\"name\":\"contained\",\"kind\":\"Any\",\"default\":true},{\"name\":\"position\",\"kind\":\"Any\",\"default\":\"right-top\"},{\"name\":\"offsetx\",\"kind\":\"Any\",\"default\":null},{\"name\":\"offsety\",\"kind\":\"Any\",\"default\":null},{\"name\":\"theme\",\"kind\":\"Any\",\"default\":\"primary\"},{\"name\":\"status\",\"kind\":\"Any\",\"default\":\"normalized\"}]},{\"type\":\"model\",\"name\":\"GridStack1\",\"properties\":[{\"name\":\"mode\",\"kind\":\"Any\",\"default\":\"warn\"},{\"name\":\"ncols\",\"kind\":\"Any\",\"default\":null},{\"name\":\"nrows\",\"kind\":\"Any\",\"default\":null},{\"name\":\"allow_resize\",\"kind\":\"Any\",\"default\":true},{\"name\":\"allow_drag\",\"kind\":\"Any\",\"default\":true},{\"name\":\"state\",\"kind\":\"Any\",\"default\":[]}]},{\"type\":\"model\",\"name\":\"drag1\",\"properties\":[{\"name\":\"slider_width\",\"kind\":\"Any\",\"default\":5},{\"name\":\"slider_color\",\"kind\":\"Any\",\"default\":\"black\"},{\"name\":\"value\",\"kind\":\"Any\",\"default\":50}]},{\"type\":\"model\",\"name\":\"click1\",\"properties\":[{\"name\":\"terminal_output\",\"kind\":\"Any\",\"default\":\"\"},{\"name\":\"debug_name\",\"kind\":\"Any\",\"default\":\"\"},{\"name\":\"clears\",\"kind\":\"Any\",\"default\":0}]},{\"type\":\"model\",\"name\":\"FastWrapper1\",\"properties\":[{\"name\":\"object\",\"kind\":\"Any\",\"default\":null},{\"name\":\"style\",\"kind\":\"Any\",\"default\":null}]},{\"type\":\"model\",\"name\":\"NotificationAreaBase1\",\"properties\":[{\"name\":\"js_events\",\"kind\":\"Any\",\"default\":{\"type\":\"map\"}},{\"name\":\"position\",\"kind\":\"Any\",\"default\":\"bottom-right\"},{\"name\":\"_clear\",\"kind\":\"Any\",\"default\":0}]},{\"type\":\"model\",\"name\":\"NotificationArea1\",\"properties\":[{\"name\":\"js_events\",\"kind\":\"Any\",\"default\":{\"type\":\"map\"}},{\"name\":\"notifications\",\"kind\":\"Any\",\"default\":[]},{\"name\":\"position\",\"kind\":\"Any\",\"default\":\"bottom-right\"},{\"name\":\"_clear\",\"kind\":\"Any\",\"default\":0},{\"name\":\"types\",\"kind\":\"Any\",\"default\":[{\"type\":\"map\",\"entries\":[[\"type\",\"warning\"],[\"background\",\"#ffc107\"],[\"icon\",{\"type\":\"map\",\"entries\":[[\"className\",\"fas fa-exclamation-triangle\"],[\"tagName\",\"i\"],[\"color\",\"white\"]]}]]},{\"type\":\"map\",\"entries\":[[\"type\",\"info\"],[\"background\",\"#007bff\"],[\"icon\",{\"type\":\"map\",\"entries\":[[\"className\",\"fas fa-info-circle\"],[\"tagName\",\"i\"],[\"color\",\"white\"]]}]]}]}]},{\"type\":\"model\",\"name\":\"Notification\",\"properties\":[{\"name\":\"background\",\"kind\":\"Any\",\"default\":null},{\"name\":\"duration\",\"kind\":\"Any\",\"default\":3000},{\"name\":\"icon\",\"kind\":\"Any\",\"default\":null},{\"name\":\"message\",\"kind\":\"Any\",\"default\":\"\"},{\"name\":\"notification_type\",\"kind\":\"Any\",\"default\":null},{\"name\":\"_destroyed\",\"kind\":\"Any\",\"default\":false}]},{\"type\":\"model\",\"name\":\"TemplateActions1\",\"properties\":[{\"name\":\"open_modal\",\"kind\":\"Any\",\"default\":0},{\"name\":\"close_modal\",\"kind\":\"Any\",\"default\":0}]},{\"type\":\"model\",\"name\":\"BootstrapTemplateActions1\",\"properties\":[{\"name\":\"open_modal\",\"kind\":\"Any\",\"default\":0},{\"name\":\"close_modal\",\"kind\":\"Any\",\"default\":0}]},{\"type\":\"model\",\"name\":\"TemplateEditor1\",\"properties\":[{\"name\":\"layout\",\"kind\":\"Any\",\"default\":[]}]},{\"type\":\"model\",\"name\":\"MaterialTemplateActions1\",\"properties\":[{\"name\":\"open_modal\",\"kind\":\"Any\",\"default\":0},{\"name\":\"close_modal\",\"kind\":\"Any\",\"default\":0}]},{\"type\":\"model\",\"name\":\"copy_to_clipboard1\",\"properties\":[{\"name\":\"fill\",\"kind\":\"Any\",\"default\":\"none\"},{\"name\":\"value\",\"kind\":\"Any\",\"default\":null}]}]}};\n",
       "  var render_items = [{\"docid\":\"723e0993-54a5-432f-9ea7-a059517d347a\",\"roots\":{\"1ec601ef-12ff-46de-83b4-5dd0b4140c35\":\"f1322354-cec0-48c4-9bc9-01f9e343eb5f\"},\"root_ids\":[\"1ec601ef-12ff-46de-83b4-5dd0b4140c35\"]}];\n",
       "  var docs = Object.values(docs_json)\n",
       "  if (!docs) {\n",
       "    return\n",
       "  }\n",
       "  const py_version = docs[0].version.replace('rc', '-rc.').replace('.dev', '-dev.')\n",
       "  async function embed_document(root) {\n",
       "    var Bokeh = get_bokeh(root)\n",
       "    await Bokeh.embed.embed_items_notebook(docs_json, render_items);\n",
       "    for (const render_item of render_items) {\n",
       "      for (const root_id of render_item.root_ids) {\n",
       "\tconst id_el = document.getElementById(root_id)\n",
       "\tif (id_el.children.length && id_el.children[0].hasAttribute('data-root-id')) {\n",
       "\t  const root_el = id_el.children[0]\n",
       "\t  root_el.id = root_el.id + '-rendered'\n",
       "\t  for (const child of root_el.children) {\n",
       "            // Ensure JupyterLab does not capture keyboard shortcuts\n",
       "            // see: https://jupyterlab.readthedocs.io/en/4.1.x/extension/notebook.html#keyboard-interaction-model\n",
       "\t    child.setAttribute('data-lm-suppress-shortcuts', 'true')\n",
       "\t  }\n",
       "\t}\n",
       "      }\n",
       "    }\n",
       "  }\n",
       "  function get_bokeh(root) {\n",
       "    if (root.Bokeh === undefined) {\n",
       "      return null\n",
       "    } else if (root.Bokeh.version !== py_version) {\n",
       "      if (root.Bokeh.versions === undefined || !root.Bokeh.versions.has(py_version)) {\n",
       "\treturn null\n",
       "      }\n",
       "      return root.Bokeh.versions.get(py_version);\n",
       "    } else if (root.Bokeh.version === py_version) {\n",
       "      return root.Bokeh\n",
       "    }\n",
       "    return null\n",
       "  }\n",
       "  function is_loaded(root) {\n",
       "    var Bokeh = get_bokeh(root)\n",
       "    return (Bokeh != null && Bokeh.Panel !== undefined)\n",
       "  }\n",
       "  if (is_loaded(root)) {\n",
       "    embed_document(root);\n",
       "  } else {\n",
       "    var attempts = 0;\n",
       "    var timer = setInterval(function(root) {\n",
       "      if (is_loaded(root)) {\n",
       "        clearInterval(timer);\n",
       "        embed_document(root);\n",
       "      } else if (document.readyState == \"complete\") {\n",
       "        attempts++;\n",
       "        if (attempts > 200) {\n",
       "          clearInterval(timer);\n",
       "\t  var Bokeh = get_bokeh(root)\n",
       "\t  if (Bokeh == null || Bokeh.Panel == null) {\n",
       "            console.warn(\"Panel: ERROR: Unable to run Panel code because Bokeh or Panel library is missing\");\n",
       "\t  } else {\n",
       "\t    console.warn(\"Panel: WARNING: Attempting to render but not all required libraries could be resolved.\")\n",
       "\t    embed_document(root)\n",
       "\t  }\n",
       "        }\n",
       "      }\n",
       "    }, 25, root)\n",
       "  }\n",
       "})(window);</script>"
      ],
      "text/plain": [
       ":Bars   [NIVEL]   (Cantidad)"
      ]
     },
     "execution_count": 3,
     "metadata": {
      "application/vnd.holoviews_exec.v0+json": {
       "id": "1ec601ef-12ff-46de-83b4-5dd0b4140c35"
      }
     },
     "output_type": "execute_result"
    }
   ],
   "source": [
    "import pandas as pd\n",
    "import hvplot.pandas\n",
    "import panel as pn\n",
    "df = pd.read_csv('C:\\\\Becas-Nuevas-Nacionales.csv', encoding='latin1')\n",
    "print(\"-----------------\")\n",
    "print(\"Consulta 2. Tabla y gráfica de la distribución de Becas por Nivel\")\n",
    "conteo_niveles = df['NIVEL'].value_counts().reset_index()\n",
    "conteo_niveles.columns = ['NIVEL', 'Cantidad']  \n",
    "print(conteo_niveles)\n",
    "grafico = conteo_niveles.hvplot.bar(x='NIVEL', y='Cantidad', xlabel='Nivel de Beca', ylabel='Número de Becas', title='Distribución de Becas por Nivel')\n",
    "grafico"
   ]
  },
  {
   "cell_type": "code",
   "execution_count": 4,
   "id": "a9c71c99-2aec-481f-b8e4-0a421dab307f",
   "metadata": {},
   "outputs": [
    {
     "name": "stdout",
     "output_type": "stream",
     "text": [
      "-----------------\n",
      "Consulta 3. Listado de Becas por Entidad Federativa\n",
      "AGUASCALIENTES: 257 becas\n",
      "BAJA CALIFORNIA: 1053 becas\n",
      "BAJA CALIFORNIA SUR: 188 becas\n",
      "CAMPECHE: 80 becas\n",
      "CHIAPAS: 281 becas\n",
      "CHIHUAHUA: 553 becas\n",
      "CIUDAD DE MEXICO: 6873 becas\n",
      "COAHUILA: 557 becas\n",
      "COLIMA: 105 becas\n",
      "DURANGO: 165 becas\n",
      "ESTADO DE MEXICO: 1407 becas\n",
      "GUANAJUATO: 771 becas\n",
      "GUERRERO: 310 becas\n",
      "HIDALGO: 309 becas\n",
      "JALISCO: 1556 becas\n",
      "MICHOACAN: 602 becas\n",
      "MORELOS: 800 becas\n",
      "NAYARIT: 97 becas\n",
      "NUEVO LEON: 1280 becas\n",
      "OAXACA: 216 becas\n",
      "PUEBLA: 1156 becas\n",
      "QUERETARO: 643 becas\n",
      "QUINTANA ROO: 107 becas\n",
      "SAN LUIS POTOSI: 568 becas\n",
      "SINALOA: 473 becas\n",
      "SONORA: 652 becas\n",
      "TABASCO: 286 becas\n",
      "TAMAULIPAS: 314 becas\n",
      "TLAXCALA: 193 becas\n",
      "VERACRUZ: 1060 becas\n",
      "YUCATAN: 571 becas\n",
      "ZACATECAS: 159 becas\n"
     ]
    }
   ],
   "source": [
    "import pandas as pd\n",
    "df = pd.read_csv('C:\\\\Becas-Nuevas-Nacionales.csv', encoding='latin1')\n",
    "print(\"-----------------\")\n",
    "print(\"Consulta 3. Listado de Becas por Entidad Federativa\")\n",
    "conteo_total = df['ENTIDAD DESTINO'].value_counts().sort_index()\n",
    "for entidad, cantidad in conteo_total.items():\n",
    "    print(f\"{entidad}: {cantidad} becas\")"
   ]
  },
  {
   "cell_type": "code",
   "execution_count": 5,
   "id": "b1245dec-a05a-4810-af7b-6dbb505ab78f",
   "metadata": {},
   "outputs": [
    {
     "name": "stdout",
     "output_type": "stream",
     "text": [
      "-----------------\n",
      "Consulta 4. Tabla y gráfica de becas por Área del Conocimiento y Sexo\n",
      "SEXO                                      FEMENINO  MASCULINO  MASCULINO \n",
      "ÁREA DEL CONOCIMIENTO                                                    \n",
      "I. FISICO MATEMATICAS Y CS. DE LA TIERRA     566.0     1148.0         0.0\n",
      "II. BIOLOGIA Y QUIMICA                      1357.0     1246.0         0.0\n",
      "III. MEDICINA Y CS. DE LA SALUD             1614.0      956.0         0.0\n",
      "IV. HUMANIDADES Y CS. DE LA CONDUCTA        2101.0     1582.0         2.0\n",
      "V. CIENCIAS SOCIALES                        2660.0     2358.0         0.0\n",
      "VI. BIOTECNOLOGIA Y CS. AGROPECUARIAS       1438.0     1236.0         0.0\n",
      "VII. INGENIERIAS                            1603.0     3775.0         0.0\n"
     ]
    }
   ],
   "source": [
    "import pandas as pd\n",
    "df = pd.read_csv('C:\\\\Becas-Nuevas-Nacionales.csv', encoding='latin1')\n",
    "print(\"-----------------\")\n",
    "print(\"Consulta 4. Tabla y gráfica de becas por Área del Conocimiento y Sexo\")\n",
    "grouped = df.groupby(['ÁREA DEL CONOCIMIENTO', 'SEXO']).size().reset_index(name='Cantidad')\n",
    "\n",
    "\n",
    "tabla_becas = pd.pivot_table(grouped, values='Cantidad', index='ÁREA DEL CONOCIMIENTO', columns='SEXO', fill_value=0)\n",
    "\n",
    "\n",
    "print(tabla_becas)\n",
    "\n",
    "\n",
    "tabla_becas.to_csv('tabla_becas.csv')"
   ]
  },
  {
   "cell_type": "code",
   "execution_count": null,
   "id": "56f90b8d-deb8-4544-a520-29ac25df26f9",
   "metadata": {},
   "outputs": [],
   "source": []
  }
 ],
 "metadata": {
  "kernelspec": {
   "display_name": "Python 3 (ipykernel)",
   "language": "python",
   "name": "python3"
  },
  "language_info": {
   "codemirror_mode": {
    "name": "ipython",
    "version": 3
   },
   "file_extension": ".py",
   "mimetype": "text/x-python",
   "name": "python",
   "nbconvert_exporter": "python",
   "pygments_lexer": "ipython3",
   "version": "3.12.4"
  }
 },
 "nbformat": 4,
 "nbformat_minor": 5
}
